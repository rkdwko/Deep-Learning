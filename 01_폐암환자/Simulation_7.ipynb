{
 "cells": [
  {
   "cell_type": "markdown",
   "metadata": {},
   "source": [
    "- 17 x 30 x 1\n",
    "- relu, adam, 30, 10\n",
    "- binary_crossentropy\n",
    "- 0.8489"
   ]
  },
  {
   "cell_type": "code",
   "execution_count": 1,
   "metadata": {},
   "outputs": [
    {
     "name": "stderr",
     "output_type": "stream",
     "text": [
      "Using TensorFlow backend.\n"
     ]
    }
   ],
   "source": [
    "import numpy as np\n",
    "import tensorflow as tf\n",
    "if type(tf.contrib) != type(tf): \n",
    "    tf.contrib._warning = None\n",
    "# 딥러닝을 구동하는 데 필요한 케라스 패키지 임포트\n",
    "from keras.models import Sequential\n",
    "from keras.layers import Dense\n",
    "# 실행할 때마다 같은 결과를 출력하기 위해 설정"
   ]
  },
  {
   "cell_type": "code",
   "execution_count": 2,
   "metadata": {},
   "outputs": [
    {
     "name": "stderr",
     "output_type": "stream",
     "text": [
      "WARNING: Logging before flag parsing goes to stderr.\n",
      "W0813 11:18:46.254845  6888 deprecation_wrapper.py:119] From C:\\ProgramData\\Anaconda3\\lib\\site-packages\\keras\\backend\\tensorflow_backend.py:74: The name tf.get_default_graph is deprecated. Please use tf.compat.v1.get_default_graph instead.\n",
      "\n",
      "W0813 11:18:46.256845  6888 deprecation_wrapper.py:119] From C:\\ProgramData\\Anaconda3\\lib\\site-packages\\keras\\backend\\tensorflow_backend.py:517: The name tf.placeholder is deprecated. Please use tf.compat.v1.placeholder instead.\n",
      "\n",
      "W0813 11:18:46.258846  6888 deprecation_wrapper.py:119] From C:\\ProgramData\\Anaconda3\\lib\\site-packages\\keras\\backend\\tensorflow_backend.py:4138: The name tf.random_uniform is deprecated. Please use tf.random.uniform instead.\n",
      "\n",
      "W0813 11:18:46.278847  6888 deprecation_wrapper.py:119] From C:\\ProgramData\\Anaconda3\\lib\\site-packages\\keras\\optimizers.py:790: The name tf.train.Optimizer is deprecated. Please use tf.compat.v1.train.Optimizer instead.\n",
      "\n",
      "W0813 11:18:46.294847  6888 deprecation_wrapper.py:119] From C:\\ProgramData\\Anaconda3\\lib\\site-packages\\keras\\backend\\tensorflow_backend.py:3376: The name tf.log is deprecated. Please use tf.math.log instead.\n",
      "\n",
      "W0813 11:18:46.297848  6888 deprecation.py:323] From C:\\ProgramData\\Anaconda3\\lib\\site-packages\\tensorflow\\python\\ops\\nn_impl.py:180: add_dispatch_support.<locals>.wrapper (from tensorflow.python.ops.array_ops) is deprecated and will be removed in a future version.\n",
      "Instructions for updating:\n",
      "Use tf.where in 2.0, which has the same broadcast rule as np.where\n",
      "W0813 11:18:46.401052  6888 deprecation_wrapper.py:119] From C:\\ProgramData\\Anaconda3\\lib\\site-packages\\keras\\backend\\tensorflow_backend.py:986: The name tf.assign_add is deprecated. Please use tf.compat.v1.assign_add instead.\n",
      "\n"
     ]
    },
    {
     "name": "stdout",
     "output_type": "stream",
     "text": [
      "Epoch 1/30\n",
      "470/470 [==============================] - 0s 351us/step - loss: 6.4425 - acc: 0.4149\n",
      "Epoch 2/30\n",
      "470/470 [==============================] - 0s 55us/step - loss: 1.2937 - acc: 0.8021\n",
      "Epoch 3/30\n",
      "470/470 [==============================] - 0s 60us/step - loss: 0.9879 - acc: 0.8085\n",
      "Epoch 4/30\n",
      "470/470 [==============================] - 0s 53us/step - loss: 0.7931 - acc: 0.7957\n",
      "Epoch 5/30\n",
      "470/470 [==============================] - 0s 51us/step - loss: 0.6803 - acc: 0.7723\n",
      "Epoch 6/30\n",
      "470/470 [==============================] - 0s 51us/step - loss: 0.5249 - acc: 0.8191\n",
      "Epoch 7/30\n",
      "470/470 [==============================] - 0s 53us/step - loss: 0.4840 - acc: 0.8298\n",
      "Epoch 8/30\n",
      "470/470 [==============================] - 0s 53us/step - loss: 0.4608 - acc: 0.8489\n",
      "Epoch 9/30\n",
      "470/470 [==============================] - 0s 53us/step - loss: 0.4651 - acc: 0.8489\n",
      "Epoch 10/30\n",
      "470/470 [==============================] - 0s 53us/step - loss: 0.4504 - acc: 0.8426\n",
      "Epoch 11/30\n",
      "470/470 [==============================] - 0s 53us/step - loss: 0.4348 - acc: 0.8511\n",
      "Epoch 12/30\n",
      "470/470 [==============================] - 0s 53us/step - loss: 0.4331 - acc: 0.8511\n",
      "Epoch 13/30\n",
      "470/470 [==============================] - ETA: 0s - loss: 0.3395 - acc: 0.900 - 0s 51us/step - loss: 0.4371 - acc: 0.8511\n",
      "Epoch 14/30\n",
      "470/470 [==============================] - 0s 53us/step - loss: 0.4746 - acc: 0.8404\n",
      "Epoch 15/30\n",
      "470/470 [==============================] - 0s 51us/step - loss: 0.4310 - acc: 0.8511\n",
      "Epoch 16/30\n",
      "470/470 [==============================] - 0s 53us/step - loss: 0.4450 - acc: 0.8489\n",
      "Epoch 17/30\n",
      "470/470 [==============================] - 0s 53us/step - loss: 0.4491 - acc: 0.8489\n",
      "Epoch 18/30\n",
      "470/470 [==============================] - 0s 53us/step - loss: 0.4856 - acc: 0.8511\n",
      "Epoch 19/30\n",
      "470/470 [==============================] - 0s 53us/step - loss: 0.4561 - acc: 0.8489\n",
      "Epoch 20/30\n",
      "470/470 [==============================] - 0s 53us/step - loss: 0.4305 - acc: 0.8511\n",
      "Epoch 21/30\n",
      "470/470 [==============================] - 0s 53us/step - loss: 0.4230 - acc: 0.8511\n",
      "Epoch 22/30\n",
      "470/470 [==============================] - 0s 51us/step - loss: 0.4327 - acc: 0.8511\n",
      "Epoch 23/30\n",
      "470/470 [==============================] - 0s 57us/step - loss: 0.4357 - acc: 0.8511\n",
      "Epoch 24/30\n",
      "470/470 [==============================] - 0s 53us/step - loss: 0.4382 - acc: 0.8468\n",
      "Epoch 25/30\n",
      "470/470 [==============================] - 0s 51us/step - loss: 0.4301 - acc: 0.8511\n",
      "Epoch 26/30\n",
      "470/470 [==============================] - 0s 51us/step - loss: 0.4768 - acc: 0.8404\n",
      "Epoch 27/30\n",
      "470/470 [==============================] - 0s 53us/step - loss: 0.4516 - acc: 0.8426\n",
      "Epoch 28/30\n",
      "470/470 [==============================] - 0s 55us/step - loss: 0.4842 - acc: 0.8298\n",
      "Epoch 29/30\n",
      "470/470 [==============================] - 0s 53us/step - loss: 0.4393 - acc: 0.8553\n",
      "Epoch 30/30\n",
      "470/470 [==============================] - 0s 53us/step - loss: 0.4066 - acc: 0.8426\n",
      "470/470 [==============================] - 0s 49us/step\n",
      "\n",
      " Accuracy: 0.8489\n"
     ]
    }
   ],
   "source": [
    "seed = 0\n",
    "np.random.seed(seed)\n",
    "tf.set_random_seed(seed)\n",
    "# 준비된 수술 환자 데이터를 불러들임\n",
    "Data_set = np.loadtxt(\"../dataset/ThoraricSurgery.csv\", delimiter=\",\")\n",
    "# 환자의 기록과 수술 결과를 X와 Y로 구분하여 저장\n",
    "X = Data_set[:,0:17]\n",
    "Y = Data_set[:,17]\n",
    "# 딥러닝 구조를 결정(모델을 설정하고 실행하는 부분)\n",
    "model = Sequential()\n",
    "model.add(Dense(30, input_dim=17, activation='relu'))\n",
    "model.add(Dense(1, activation='sigmoid'))\n",
    "# 딥러닝 실행\n",
    "model.compile(loss='binary_crossentropy', optimizer='adam', metrics=['accuracy'])\n",
    "model.fit(X, Y, epochs=30, batch_size=10)\n",
    "# 결과 출력\n",
    "print(\"\\n Accuracy: %.4f\" % (model.evaluate(X, Y)[1]))"
   ]
  }
 ],
 "metadata": {
  "kernelspec": {
   "display_name": "Python 3",
   "language": "python",
   "name": "python3"
  },
  "language_info": {
   "codemirror_mode": {
    "name": "ipython",
    "version": 3
   },
   "file_extension": ".py",
   "mimetype": "text/x-python",
   "name": "python",
   "nbconvert_exporter": "python",
   "pygments_lexer": "ipython3",
   "version": "3.7.3"
  }
 },
 "nbformat": 4,
 "nbformat_minor": 2
}
