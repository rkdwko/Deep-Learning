{
 "cells": [
  {
   "cell_type": "code",
   "execution_count": 1,
   "metadata": {},
   "outputs": [],
   "source": [
    "import tensorflow as tf\n",
    "import numpy as np"
   ]
  },
  {
   "cell_type": "code",
   "execution_count": 2,
   "metadata": {},
   "outputs": [],
   "source": [
    "# CIFAR-10 데이터를 다운로드 받기 위한 keras의 helper 함수인 load_data 함수를 임포트합니다.\n",
    "from tensorflow.keras.datasets.cifar10 import load_data"
   ]
  },
  {
   "cell_type": "code",
   "execution_count": 3,
   "metadata": {},
   "outputs": [],
   "source": [
    "# 다음 배치를 읽어오기 위한 next_batch 유틸리티 함수를 정의합니다.\n",
    "def next_batch(num, data, labels):\n",
    "  '''\n",
    "  `num` 개수 만큼의 랜덤한 샘플들과 레이블들을 리턴합니다.\n",
    "  '''\n",
    "  idx = np.arange(0 , len(data))\n",
    "  np.random.shuffle(idx)\n",
    "  idx = idx[:num]\n",
    "  data_shuffle = [data[ i] for i in idx]\n",
    "  labels_shuffle = [labels[ i] for i in idx]\n",
    "\n",
    "  return np.asarray(data_shuffle), np.asarray(labels_shuffle)"
   ]
  },
  {
   "cell_type": "code",
   "execution_count": 4,
   "metadata": {},
   "outputs": [],
   "source": [
    "# CNN 모델을 정의합니다. \n",
    "def build_CNN_classifier(x):\n",
    "  # 입력 이미지\n",
    "  x_image = x\n",
    "\n",
    "  # 첫번째 convolutional layer - 하나의 grayscale 이미지를 64개의 특징들(feature)으로 맵핑(maping)합니다.\n",
    "  W_conv1 = tf.Variable(tf.truncated_normal(shape=[5, 5, 3, 64], stddev=5e-2))\n",
    "  b_conv1 = tf.Variable(tf.constant(0.1, shape=[64]))\n",
    "  h_conv1 = tf.nn.relu(tf.nn.conv2d(x_image, W_conv1, strides=[1, 1, 1, 1], padding='SAME') + b_conv1)\n",
    "\n",
    "  # 첫번째 Pooling layer\n",
    "  h_pool1 = tf.nn.max_pool(h_conv1, ksize=[1, 3, 3, 1], strides=[1, 2, 2, 1], padding='SAME')\n",
    "\n",
    "  # 두번째 convolutional layer - 32개의 특징들(feature)을 64개의 특징들(feature)로 맵핑(maping)합니다.\n",
    "  W_conv2 = tf.Variable(tf.truncated_normal(shape=[5, 5, 64, 64], stddev=5e-2))\n",
    "  b_conv2 = tf.Variable(tf.constant(0.1, shape=[64]))\n",
    "  h_conv2 = tf.nn.relu(tf.nn.conv2d(h_pool1, W_conv2, strides=[1, 1, 1, 1], padding='SAME') + b_conv2)\n",
    "\n",
    "  # 두번째 pooling layer.\n",
    "  h_pool2 = tf.nn.max_pool(h_conv2, ksize=[1, 3, 3, 1], strides=[1, 2, 2, 1], padding='SAME')\n",
    "\n",
    "  # 세번째 convolutional layer\n",
    "  W_conv3 = tf.Variable(tf.truncated_normal(shape=[3, 3, 64, 128], stddev=5e-2))\n",
    "  b_conv3 = tf.Variable(tf.constant(0.1, shape=[128]))\n",
    "  h_conv3 = tf.nn.relu(tf.nn.conv2d(h_pool2, W_conv3, strides=[1, 1, 1, 1], padding='SAME') + b_conv3)\n",
    "\n",
    "  # 네번째 convolutional layer\n",
    "  W_conv4 = tf.Variable(tf.truncated_normal(shape=[3, 3, 128, 128], stddev=5e-2))\n",
    "  b_conv4 = tf.Variable(tf.constant(0.1, shape=[128])) \n",
    "  h_conv4 = tf.nn.relu(tf.nn.conv2d(h_conv3, W_conv4, strides=[1, 1, 1, 1], padding='SAME') + b_conv4)\n",
    "\n",
    "  # 다섯번째 convolutional layer\n",
    "  W_conv5 = tf.Variable(tf.truncated_normal(shape=[3, 3, 128, 128], stddev=5e-2))\n",
    "  b_conv5 = tf.Variable(tf.constant(0.1, shape=[128]))\n",
    "  h_conv5 = tf.nn.relu(tf.nn.conv2d(h_conv4, W_conv5, strides=[1, 1, 1, 1], padding='SAME') + b_conv5)\n",
    "\n",
    "  # Fully Connected Layer 1 - 2번의 downsampling 이후에, 우리의 32x32 이미지는 8x8x128 특징맵(feature map)이 됩니다.\n",
    "  # 이를 384개의 특징들로 맵핑(maping)합니다.\n",
    "  W_fc1 = tf.Variable(tf.truncated_normal(shape=[8 * 8 * 128, 384], stddev=5e-2))\n",
    "  b_fc1 = tf.Variable(tf.constant(0.1, shape=[384]))\n",
    "\n",
    "  h_conv5_flat = tf.reshape(h_conv5, [-1, 8*8*128])\n",
    "  h_fc1 = tf.nn.relu(tf.matmul(h_conv5_flat, W_fc1) + b_fc1)\n",
    "\n",
    "  # Dropout - 모델의 복잡도를 컨트롤합니다. 특징들의 co-adaptation을 방지합니다.\n",
    "  h_fc1_drop = tf.nn.dropout(h_fc1, keep_prob) \n",
    "\n",
    "  # Fully Connected Layer 2 - 384개의 특징들(feature)을 10개의 클래스-airplane, automobile, bird...-로 맵핑(maping)합니다.\n",
    "  W_fc2 = tf.Variable(tf.truncated_normal(shape=[384, 10], stddev=5e-2))\n",
    "  b_fc2 = tf.Variable(tf.constant(0.1, shape=[10]))\n",
    "  logits = tf.matmul(h_fc1_drop,W_fc2) + b_fc2\n",
    "  y_pred = tf.nn.softmax(logits)\n",
    "\n",
    "  return y_pred, logits"
   ]
  },
  {
   "cell_type": "code",
   "execution_count": 5,
   "metadata": {},
   "outputs": [],
   "source": [
    "# 인풋 아웃풋 데이터, 드롭아웃 확률을 입력받기위한 플레이스홀더를 정의합니다.\n",
    "x = tf.placeholder(tf.float32, shape=[None, 32, 32, 3])\n",
    "y = tf.placeholder(tf.float32, shape=[None, 10])\n",
    "keep_prob = tf.placeholder(tf.float32)"
   ]
  },
  {
   "cell_type": "code",
   "execution_count": 6,
   "metadata": {},
   "outputs": [
    {
     "name": "stdout",
     "output_type": "stream",
     "text": [
      "Downloading data from https://www.cs.toronto.edu/~kriz/cifar-10-python.tar.gz\n",
      "170500096/170498071 [==============================] - 41s 0us/step\n"
     ]
    }
   ],
   "source": [
    "# CIFAR-10 데이터를 다운로드하고 데이터를 불러옵니다.\n",
    "(x_train, y_train), (x_test, y_test) = load_data()\n",
    "# scalar 형태의 레이블(0~9)을 One-hot Encoding 형태로 변환합니다.\n",
    "y_train_one_hot = tf.squeeze(tf.one_hot(y_train, 10),axis=1)\n",
    "y_test_one_hot = tf.squeeze(tf.one_hot(y_test, 10),axis=1)"
   ]
  },
  {
   "cell_type": "code",
   "execution_count": 7,
   "metadata": {},
   "outputs": [
    {
     "name": "stderr",
     "output_type": "stream",
     "text": [
      "WARNING: Logging before flag parsing goes to stderr.\n",
      "W0819 16:46:04.077791  7512 deprecation.py:506] From <ipython-input-4-080fb44c3669>:46: calling dropout (from tensorflow.python.ops.nn_ops) with keep_prob is deprecated and will be removed in a future version.\n",
      "Instructions for updating:\n",
      "Please use `rate` instead of `keep_prob`. Rate should be set to `rate = 1 - keep_prob`.\n"
     ]
    }
   ],
   "source": [
    "# Convolutional Neural Networks(CNN) 그래프를 생성합니다.\n",
    "y_pred, logits = build_CNN_classifier(x)"
   ]
  },
  {
   "cell_type": "code",
   "execution_count": 8,
   "metadata": {},
   "outputs": [
    {
     "name": "stderr",
     "output_type": "stream",
     "text": [
      "W0819 16:46:10.544612  7512 deprecation.py:323] From <ipython-input-8-abe6276ea777>:2: softmax_cross_entropy_with_logits (from tensorflow.python.ops.nn_ops) is deprecated and will be removed in a future version.\n",
      "Instructions for updating:\n",
      "\n",
      "Future major versions of TensorFlow will allow gradients to flow\n",
      "into the labels input on backprop by default.\n",
      "\n",
      "See `tf.nn.softmax_cross_entropy_with_logits_v2`.\n",
      "\n",
      "W0819 16:46:10.715133  7512 deprecation.py:506] From C:\\ProgramData\\Anaconda3\\lib\\site-packages\\tensorflow\\python\\training\\rmsprop.py:119: calling Ones.__init__ (from tensorflow.python.ops.init_ops) with dtype is deprecated and will be removed in a future version.\n",
      "Instructions for updating:\n",
      "Call initializer instance with the dtype argument instead of passing it to the constructor\n"
     ]
    }
   ],
   "source": [
    "# Cross Entropy를 비용함수(loss function)으로 정의하고, RMSPropOptimizer를 이용해서 비용 함수를 최소화합니다.\n",
    "loss = tf.reduce_mean(tf.nn.softmax_cross_entropy_with_logits(labels=y, logits=logits))\n",
    "train_step = tf.train.RMSPropOptimizer(1e-3).minimize(loss)"
   ]
  },
  {
   "cell_type": "code",
   "execution_count": 9,
   "metadata": {},
   "outputs": [],
   "source": [
    "# 정확도를 계산하는 연산을 추가합니다.\n",
    "correct_prediction = tf.equal(tf.argmax(y_pred, 1), tf.argmax(y, 1))\n",
    "accuracy = tf.reduce_mean(tf.cast(correct_prediction, tf.float32))"
   ]
  },
  {
   "cell_type": "code",
   "execution_count": null,
   "metadata": {},
   "outputs": [
    {
     "name": "stdout",
     "output_type": "stream",
     "text": [
      "반복(Epoch): 0, 트레이닝 데이터 정확도: 0.125000, 손실 함수(loss): 253.677002\n",
      "반복(Epoch): 100, 트레이닝 데이터 정확도: 0.203125, 손실 함수(loss): 2.227799\n",
      "반복(Epoch): 200, 트레이닝 데이터 정확도: 0.195312, 손실 함수(loss): 2.226131\n",
      "반복(Epoch): 300, 트레이닝 데이터 정확도: 0.406250, 손실 함수(loss): 1.629228\n",
      "반복(Epoch): 400, 트레이닝 데이터 정확도: 0.437500, 손실 함수(loss): 1.509585\n",
      "반복(Epoch): 500, 트레이닝 데이터 정확도: 0.328125, 손실 함수(loss): 1.694128\n",
      "반복(Epoch): 600, 트레이닝 데이터 정확도: 0.359375, 손실 함수(loss): 1.697694\n",
      "반복(Epoch): 700, 트레이닝 데이터 정확도: 0.468750, 손실 함수(loss): 1.334708\n",
      "반복(Epoch): 800, 트레이닝 데이터 정확도: 0.578125, 손실 함수(loss): 1.203435\n",
      "반복(Epoch): 900, 트레이닝 데이터 정확도: 0.570312, 손실 함수(loss): 1.228399\n",
      "반복(Epoch): 1000, 트레이닝 데이터 정확도: 0.570312, 손실 함수(loss): 1.277697\n",
      "반복(Epoch): 1100, 트레이닝 데이터 정확도: 0.578125, 손실 함수(loss): 1.168225\n",
      "반복(Epoch): 1200, 트레이닝 데이터 정확도: 0.570312, 손실 함수(loss): 1.162349\n",
      "반복(Epoch): 1300, 트레이닝 데이터 정확도: 0.539062, 손실 함수(loss): 1.262940\n",
      "반복(Epoch): 1400, 트레이닝 데이터 정확도: 0.625000, 손실 함수(loss): 1.034239\n",
      "반복(Epoch): 1500, 트레이닝 데이터 정확도: 0.593750, 손실 함수(loss): 1.176764\n",
      "반복(Epoch): 1600, 트레이닝 데이터 정확도: 0.593750, 손실 함수(loss): 1.209515\n",
      "반복(Epoch): 1700, 트레이닝 데이터 정확도: 0.609375, 손실 함수(loss): 1.066828\n",
      "반복(Epoch): 1800, 트레이닝 데이터 정확도: 0.648438, 손실 함수(loss): 0.947217\n",
      "반복(Epoch): 1900, 트레이닝 데이터 정확도: 0.640625, 손실 함수(loss): 1.189696\n",
      "반복(Epoch): 2000, 트레이닝 데이터 정확도: 0.617188, 손실 함수(loss): 1.003386\n",
      "반복(Epoch): 2100, 트레이닝 데이터 정확도: 0.703125, 손실 함수(loss): 0.946389\n",
      "반복(Epoch): 2200, 트레이닝 데이터 정확도: 0.593750, 손실 함수(loss): 0.993686\n",
      "반복(Epoch): 2300, 트레이닝 데이터 정확도: 0.609375, 손실 함수(loss): 1.096867\n",
      "반복(Epoch): 2400, 트레이닝 데이터 정확도: 0.632812, 손실 함수(loss): 1.146657\n",
      "반복(Epoch): 2500, 트레이닝 데이터 정확도: 0.671875, 손실 함수(loss): 0.871290\n",
      "반복(Epoch): 2600, 트레이닝 데이터 정확도: 0.726562, 손실 함수(loss): 0.756638\n",
      "반복(Epoch): 2700, 트레이닝 데이터 정확도: 0.750000, 손실 함수(loss): 0.795570\n",
      "반복(Epoch): 2800, 트레이닝 데이터 정확도: 0.718750, 손실 함수(loss): 0.960866\n",
      "반복(Epoch): 2900, 트레이닝 데이터 정확도: 0.710938, 손실 함수(loss): 0.842711\n",
      "반복(Epoch): 3000, 트레이닝 데이터 정확도: 0.593750, 손실 함수(loss): 1.272414\n",
      "반복(Epoch): 3100, 트레이닝 데이터 정확도: 0.765625, 손실 함수(loss): 0.803262\n",
      "반복(Epoch): 3200, 트레이닝 데이터 정확도: 0.656250, 손실 함수(loss): 1.013897\n",
      "반복(Epoch): 3300, 트레이닝 데이터 정확도: 0.703125, 손실 함수(loss): 0.904975\n",
      "반복(Epoch): 3400, 트레이닝 데이터 정확도: 0.695312, 손실 함수(loss): 0.966931\n",
      "반복(Epoch): 3500, 트레이닝 데이터 정확도: 0.648438, 손실 함수(loss): 1.132596\n",
      "반복(Epoch): 3600, 트레이닝 데이터 정확도: 0.695312, 손실 함수(loss): 0.899437\n",
      "반복(Epoch): 3700, 트레이닝 데이터 정확도: 0.742188, 손실 함수(loss): 0.858510\n",
      "반복(Epoch): 3800, 트레이닝 데이터 정확도: 0.640625, 손실 함수(loss): 1.090204\n",
      "반복(Epoch): 3900, 트레이닝 데이터 정확도: 0.710938, 손실 함수(loss): 0.870137\n",
      "반복(Epoch): 4000, 트레이닝 데이터 정확도: 0.742188, 손실 함수(loss): 0.720325\n",
      "반복(Epoch): 4100, 트레이닝 데이터 정확도: 0.710938, 손실 함수(loss): 0.926056\n",
      "반복(Epoch): 4200, 트레이닝 데이터 정확도: 0.671875, 손실 함수(loss): 0.958173\n",
      "반복(Epoch): 4300, 트레이닝 데이터 정확도: 0.687500, 손실 함수(loss): 0.907949\n",
      "반복(Epoch): 4400, 트레이닝 데이터 정확도: 0.726562, 손실 함수(loss): 0.841428\n",
      "반복(Epoch): 4500, 트레이닝 데이터 정확도: 0.687500, 손실 함수(loss): 0.846174\n",
      "반복(Epoch): 4600, 트레이닝 데이터 정확도: 0.687500, 손실 함수(loss): 0.799741\n",
      "반복(Epoch): 4700, 트레이닝 데이터 정확도: 0.710938, 손실 함수(loss): 0.785625\n",
      "반복(Epoch): 4800, 트레이닝 데이터 정확도: 0.750000, 손실 함수(loss): 0.750163\n",
      "반복(Epoch): 4900, 트레이닝 데이터 정확도: 0.710938, 손실 함수(loss): 0.760362\n",
      "반복(Epoch): 5000, 트레이닝 데이터 정확도: 0.695312, 손실 함수(loss): 0.845333\n",
      "반복(Epoch): 5100, 트레이닝 데이터 정확도: 0.718750, 손실 함수(loss): 0.728887\n",
      "반복(Epoch): 5200, 트레이닝 데이터 정확도: 0.648438, 손실 함수(loss): 0.945745\n",
      "반복(Epoch): 5300, 트레이닝 데이터 정확도: 0.726562, 손실 함수(loss): 0.965745\n",
      "반복(Epoch): 5400, 트레이닝 데이터 정확도: 0.671875, 손실 함수(loss): 0.952970\n",
      "반복(Epoch): 5500, 트레이닝 데이터 정확도: 0.671875, 손실 함수(loss): 0.819741\n",
      "반복(Epoch): 5600, 트레이닝 데이터 정확도: 0.656250, 손실 함수(loss): 0.929321\n",
      "반복(Epoch): 5700, 트레이닝 데이터 정확도: 0.703125, 손실 함수(loss): 0.906827\n",
      "반복(Epoch): 5800, 트레이닝 데이터 정확도: 0.703125, 손실 함수(loss): 0.867739\n",
      "반복(Epoch): 5900, 트레이닝 데이터 정확도: 0.656250, 손실 함수(loss): 0.949857\n",
      "반복(Epoch): 6000, 트레이닝 데이터 정확도: 0.695312, 손실 함수(loss): 0.921150\n",
      "반복(Epoch): 6100, 트레이닝 데이터 정확도: 0.687500, 손실 함수(loss): 0.834221\n",
      "반복(Epoch): 6200, 트레이닝 데이터 정확도: 0.703125, 손실 함수(loss): 0.948493\n",
      "반복(Epoch): 6300, 트레이닝 데이터 정확도: 0.664062, 손실 함수(loss): 1.072967\n",
      "반복(Epoch): 6400, 트레이닝 데이터 정확도: 0.718750, 손실 함수(loss): 0.913169\n",
      "반복(Epoch): 6500, 트레이닝 데이터 정확도: 0.703125, 손실 함수(loss): 0.907530\n",
      "반복(Epoch): 6600, 트레이닝 데이터 정확도: 0.617188, 손실 함수(loss): 1.215470\n",
      "반복(Epoch): 6700, 트레이닝 데이터 정확도: 0.710938, 손실 함수(loss): 0.788599\n",
      "반복(Epoch): 6800, 트레이닝 데이터 정확도: 0.625000, 손실 함수(loss): 1.046069\n",
      "반복(Epoch): 6900, 트레이닝 데이터 정확도: 0.679688, 손실 함수(loss): 0.865321\n",
      "반복(Epoch): 7000, 트레이닝 데이터 정확도: 0.695312, 손실 함수(loss): 1.114069\n",
      "반복(Epoch): 7100, 트레이닝 데이터 정확도: 0.679688, 손실 함수(loss): 0.869587\n",
      "반복(Epoch): 7200, 트레이닝 데이터 정확도: 0.718750, 손실 함수(loss): 0.980932\n",
      "반복(Epoch): 7300, 트레이닝 데이터 정확도: 0.695312, 손실 함수(loss): 0.815452\n",
      "반복(Epoch): 7400, 트레이닝 데이터 정확도: 0.617188, 손실 함수(loss): 1.077297\n",
      "반복(Epoch): 7500, 트레이닝 데이터 정확도: 0.648438, 손실 함수(loss): 1.245459\n",
      "반복(Epoch): 7600, 트레이닝 데이터 정확도: 0.703125, 손실 함수(loss): 0.818048\n",
      "반복(Epoch): 7700, 트레이닝 데이터 정확도: 0.757812, 손실 함수(loss): 0.680372\n",
      "반복(Epoch): 7800, 트레이닝 데이터 정확도: 0.679688, 손실 함수(loss): 0.712219\n",
      "반복(Epoch): 7900, 트레이닝 데이터 정확도: 0.703125, 손실 함수(loss): 1.143108\n",
      "반복(Epoch): 8000, 트레이닝 데이터 정확도: 0.773438, 손실 함수(loss): 0.657143\n"
     ]
    }
   ],
   "source": [
    "# 세션을 열어 실제 학습을 진행합니다.\n",
    "with tf.Session() as sess:\n",
    "  # 모든 변수들을 초기화한다. \n",
    "  sess.run(tf.global_variables_initializer())\n",
    "  \n",
    "  # 10000 Step만큼 최적화를 수행합니다.\n",
    "  for i in range(10000):\n",
    "    batch = next_batch(128, x_train, y_train_one_hot.eval())\n",
    "\n",
    "    # 100 Step마다 training 데이터셋에 대한 정확도와 loss를 출력합니다.\n",
    "    if i % 100 == 0:\n",
    "      train_accuracy = accuracy.eval(feed_dict={x: batch[0], y: batch[1], keep_prob: 1.0})\n",
    "      loss_print = loss.eval(feed_dict={x: batch[0], y: batch[1], keep_prob: 1.0})\n",
    "\n",
    "      print(\"반복(Epoch): %d, 트레이닝 데이터 정확도: %f, 손실 함수(loss): %f\" % (i, train_accuracy, loss_print))\n",
    "    # 20% 확률의 Dropout을 이용해서 학습을 진행합니다.\n",
    "    sess.run(train_step, feed_dict={x: batch[0], y: batch[1], keep_prob: 0.8})\n",
    "\n",
    "  # 학습이 끝나면 테스트 데이터(10000개)에 대한 정확도를 출력합니다.  \n",
    "  test_accuracy = 0.0  \n",
    "  for i in range(10):\n",
    "    test_batch = next_batch(1000, x_test, y_test_one_hot.eval())\n",
    "    test_accuracy = test_accuracy + accuracy.eval(feed_dict={x: test_batch[0], y: test_batch[1], keep_prob: 1.0})\n",
    "  test_accuracy = test_accuracy / 10;\n",
    "  print(\"테스트 데이터 정확도: %f\" % test_accuracy)"
   ]
  },
  {
   "cell_type": "code",
   "execution_count": null,
   "metadata": {},
   "outputs": [],
   "source": []
  }
 ],
 "metadata": {
  "kernelspec": {
   "display_name": "Python 3",
   "language": "python",
   "name": "python3"
  },
  "language_info": {
   "codemirror_mode": {
    "name": "ipython",
    "version": 3
   },
   "file_extension": ".py",
   "mimetype": "text/x-python",
   "name": "python",
   "nbconvert_exporter": "python",
   "pygments_lexer": "ipython3",
   "version": "3.7.3"
  }
 },
 "nbformat": 4,
 "nbformat_minor": 2
}
